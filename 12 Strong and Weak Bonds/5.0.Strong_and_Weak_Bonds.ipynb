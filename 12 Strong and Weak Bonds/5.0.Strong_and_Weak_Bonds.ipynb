{
 "cells": [
  {
   "cell_type": "markdown",
   "id": "1bd827ac-fc78-4db5-87c4-9e24ad999b39",
   "metadata": {},
   "source": [
    "# Strong and Weak Bonds (Lesson/Unit 5)"
   ]
  },
  {
   "cell_type": "code",
   "execution_count": null,
   "id": "28c2c441-66d5-4e50-8a75-1ee93dcd474d",
   "metadata": {},
   "outputs": [],
   "source": [
    "# 12.1 Introduction\n",
    "\n",
    "    # The video discusses using graph search and statistical \n",
    "    # analysis to find shortest paths in social networks, \n",
    "    # highlighting the complexity of connections and the \n",
    "    # role of approximation algorithms for large datasets."
   ]
  },
  {
   "cell_type": "code",
   "execution_count": null,
   "id": "4436b1de-5de8-4fdd-919d-b6350b139a2e",
   "metadata": {},
   "outputs": [],
   "source": [
    "# 12.2 Save the Turtles\n",
    "\n",
    "    # The topic of unit 5 is weighted graphs.\n",
    "\n",
    "# Go to Quiz (Cut the bridges so plastic stays in one piece but with no loops?)\n",
    "    # [14]"
   ]
  },
  {
   "cell_type": "code",
   "execution_count": null,
   "id": "18104635-c68e-4fa6-9e78-8196b6bcb8ca",
   "metadata": {},
   "outputs": [],
   "source": [
    "# 12.3 Make a Tree \n",
    "\n",
    "    # Grapgh: 26 nodes and 25 edges.\n",
    "    # Remove edges to make a tree \n",
    "    # 39 - 25 edges = 14 edges\n",
    "    # Kill 14 edges to turn this into a tree."
   ]
  },
  {
   "cell_type": "code",
   "execution_count": 1,
   "id": "accf43c0-d54d-44a6-b962-2df9f6997764",
   "metadata": {},
   "outputs": [
    {
     "name": "stdout",
     "output_type": "stream",
     "text": [
      "(('THING/BENJAMIN J. GR', 'HUMAN TORCH/JOHNNY S'), 744)\n"
     ]
    }
   ],
   "source": [
    "# 12.4 Strength of Connections\n",
    "\n",
    "import csv\n",
    "import itertools\n",
    "from collections import defaultdict\n",
    "\n",
    "def read_graph(filename):\n",
    "\ttsv = csv.reader(open(filename), delimiter='\\t')\n",
    "\tmarvel_graph = defaultdict(list)\n",
    "\tfor character, book in tsv:\n",
    "\t\tmarvel_graph[book] += [character]\n",
    "\n",
    "\treturn marvel_graph\n",
    "\n",
    "def compute_strength(graph):\n",
    "\tstrength_dict = defaultdict(int)\n",
    "\tfor book in graph:\n",
    "\t\tfor char_0, char_1 in itertools.combinations(graph[book], 2):\n",
    "\t\t\tstrength_dict[max(char_0, char_1), min(char_0, char_1)] += 1\n",
    "\n",
    "\treturn strength_dict\n",
    "\n",
    "if __name__ == '__main__':\n",
    "\tstrength_dict = compute_strength(read_graph(\"Marvel-Graph.tsv\"))\n",
    "\tprint(max(strength_dict.items(), key=lambda x: x[1]))\n",
    "\n",
    "# Go to Quiz ()\n",
    "    # 1. HUMAN TORCH/JOHNNY S - THING/BENJAMIN J. GR"
   ]
  },
  {
   "cell_type": "code",
   "execution_count": null,
   "id": "387aad6f-efd8-4536-9e17-423f804e4ab5",
   "metadata": {},
   "outputs": [],
   "source": [
    "# 12.5 Matrix Multiplication ضرب المصفوفات\n",
    "\n",
    "    # i = row سطر او صف او سجل\n",
    "    # j = column عمود"
   ]
  },
  {
   "cell_type": "code",
   "execution_count": null,
   "id": "cf2ffbf2-3fdf-409c-add7-6d34c0168495",
   "metadata": {},
   "outputs": [],
   "source": [
    "# 12.6 Weighted Social Networks\n",
    "\n",
    "    # http://www.wired.com/special_multimedia/2008/ff_poker_1612 (opens in a new tab)."
   ]
  },
  {
   "cell_type": "code",
   "execution_count": null,
   "id": "2b3e89de-159a-464a-82c2-0e1bc6d30b33",
   "metadata": {},
   "outputs": [],
   "source": [
    "# 12.7 Find the Shortest Path\n",
    "\n",
    "    # \n",
    "\n",
    "# Go to Quiz ()\n",
    "    # [11]"
   ]
  },
  {
   "cell_type": "code",
   "execution_count": null,
   "id": "acf889d6-0557-4cc3-8756-5bdb65ab5c93",
   "metadata": {},
   "outputs": [],
   "source": [
    "# 12.8 How to Find the Shortest Path\n",
    "\n",
    "    # "
   ]
  },
  {
   "cell_type": "code",
   "execution_count": null,
   "id": "e53c9831-0f36-4475-bc19-6576daa55165",
   "metadata": {},
   "outputs": [],
   "source": [
    "# 12.9 Simulate this Algorithm\n",
    "\n",
    "    # \n",
    "\n",
    "# Go to Quiz (A >>> E?)\n",
    "    # [17]"
   ]
  },
  {
   "cell_type": "code",
   "execution_count": null,
   "id": "e425f002-8f85-46fb-a9c7-5a0b73bb46ff",
   "metadata": {},
   "outputs": [],
   "source": [
    "# 12.10 Dijkstra's Shortest Path Algorithm\n",
    "\n",
    "    # "
   ]
  },
  {
   "cell_type": "code",
   "execution_count": 3,
   "id": "a81b9860-a288-4f14-a145-190fa93908b8",
   "metadata": {},
   "outputs": [
    {
     "name": "stdout",
     "output_type": "stream",
     "text": [
      "Shortest distances from node A: {'A': 0, 'B': 1, 'C': 3, 'D': 4}\n"
     ]
    }
   ],
   "source": [
    "# 12.11 Code for Dijkstra\n",
    "\n",
    "import heapq\n",
    "\n",
    "def dijkstra(graph, start):\n",
    "    distances = {node: float('infinity') for node in graph}\n",
    "    distances[start] = 0\n",
    "    priority_queue = [(0, start)]\n",
    "    \n",
    "    while priority_queue:\n",
    "        current_distance, current_node = heapq.heappop(priority_queue)\n",
    "        \n",
    "        # Skip if a shorter path has already been found\n",
    "        if current_distance > distances[current_node]:\n",
    "            continue\n",
    "        \n",
    "        for neighbor, weight in graph[current_node].items():\n",
    "            new_distance = current_distance + weight\n",
    "            if new_distance < distances[neighbor]:\n",
    "                distances[neighbor] = new_distance\n",
    "                heapq.heappush(priority_queue, (new_distance, neighbor))\n",
    "    \n",
    "    return distances\n",
    "\n",
    "# Example usage\n",
    "if __name__ == \"__main__\":\n",
    "    # Sample graph (adjacency list)\n",
    "    graph = {\n",
    "        'A': {'B': 1, 'C': 4},\n",
    "        'B': {'A': 1, 'C': 2, 'D': 5},\n",
    "        'C': {'A': 4, 'B': 2, 'D': 1},\n",
    "        'D': {'B': 5, 'C': 1}\n",
    "    }\n",
    "    \n",
    "    start_node = 'A'\n",
    "    result = dijkstra(graph, start_node)\n",
    "    print(f\"Shortest distances from node {start_node}: {result}\")"
   ]
  },
  {
   "cell_type": "code",
   "execution_count": null,
   "id": "7c7d3b3f-85dc-4944-bb98-413b456343b0",
   "metadata": {},
   "outputs": [],
   "source": [
    "# 12.12 What is Missing?\n",
    "\n",
    "    # \n",
    "\n",
    "# Go to Quiz ()\n",
    "    # 1. depends on how \"dinf shortest\" is implemented."
   ]
  },
  {
   "cell_type": "code",
   "execution_count": null,
   "id": "4df51cd0-5975-4cd2-a402-2d9e777e3ba4",
   "metadata": {},
   "outputs": [],
   "source": [
    "# 12.13 Implementing Shortest Distance\n",
    "\n",
    "    # loop through \n",
    "\n",
    "# Go to Quiz ()\n",
    "    # 3. Θ(n^2)"
   ]
  },
  {
   "cell_type": "code",
   "execution_count": null,
   "id": "25cd1162-59fd-4f7e-afeb-894b8039df92",
   "metadata": {},
   "outputs": [],
   "source": [
    "# 12.14 Using Heaps\n",
    "\n",
    "    # Running times\n",
    "\n",
    "# Go to Quiz ()\n",
    "    # 4. Θ(mlogn) = Dijkstra"
   ]
  },
  {
   "cell_type": "code",
   "execution_count": null,
   "id": "1ed29bd0-6952-4176-a376-c753d22c5c62",
   "metadata": {},
   "outputs": [],
   "source": [
    "# 12.15 All Pairs Shortest Paths\n",
    "\n",
    "    # Θ(mmlogn)"
   ]
  },
  {
   "cell_type": "code",
   "execution_count": null,
   "id": "dbda2352-56c6-4274-9cf3-a9c3a1f0feb9",
   "metadata": {},
   "outputs": [],
   "source": [
    "# 12.16 Floyd-Warshall Intro\n",
    "\n",
    "    # \n",
    "\n",
    "# Go to Quiz ()\n",
    "    # "
   ]
  },
  {
   "cell_type": "code",
   "execution_count": null,
   "id": "8e1387d5-8cc6-487e-8185-abcaf164a8fb",
   "metadata": {},
   "outputs": [],
   "source": [
    "# 12.17 Floyd-Warshall\n",
    "\n",
    "    # \n",
    "\n",
    "# Go to Quiz ()\n",
    "    # "
   ]
  },
  {
   "cell_type": "code",
   "execution_count": 5,
   "id": "9acfcedd-4306-44da-87e4-997d64e9d252",
   "metadata": {},
   "outputs": [
    {
     "name": "stdout",
     "output_type": "stream",
     "text": [
      "1\n",
      "1.0\n",
      "1.0\n",
      "2\n",
      "0.3\n",
      "0.3\n",
      "3\n",
      "0.6666666666666666\n",
      "0.6666666666666666\n",
      "4\n",
      "1.0\n",
      "1.0\n",
      "5\n",
      "1.0\n",
      "1.0\n",
      "6\n",
      "1.0\n",
      "1.0\n"
     ]
    }
   ],
   "source": [
    "# 12.18 Randomizing Clustering Coefficient\n",
    "\n",
    "#\n",
    "# Modify `expected_c`\n",
    "# to return the expected value of C[w,x],\n",
    "# where C[w,x] is the clustering coefficient\n",
    "# given w and x - two randomly choosen neighbors of v\n",
    "#\n",
    "\n",
    "def expected_C(G,v):\n",
    "\t# G[v].keys() is the set of neighbors of v\n",
    "\tneighbors = G[v].keys()\n",
    "\tdegree = len(neighbors)\n",
    "\t# x in G[w][x] if x and w are connected in the graph (C[w,x])\n",
    "\treturn clustering_coefficient(G, v)\n",
    "\n",
    "def make_link(G, node1, node2):\n",
    "\tif node1 not in G:\n",
    "\t\tG[node1] = {}\n",
    "\t(G[node1])[node2] = 1\n",
    "\tif node2 not in G:\n",
    "\t\tG[node2] = {}\n",
    "\t(G[node2])[node1] = 1\n",
    "\treturn G\n",
    "\n",
    "def clustering_coefficient(G,v):\n",
    "\tneighbors = G[v].keys()\n",
    "\tif len(neighbors) == 1: return 0.0\n",
    "\tlinks = 0.0\n",
    "\tfor w in neighbors:\n",
    "\t\tfor u in neighbors:\n",
    "\t\t\tif u in G[w]: links += 0.5\n",
    "\treturn 2.0*links/(len(neighbors)*(len(neighbors)-1))\n",
    "\n",
    "if __name__ == '__main__':\n",
    "\tflights = [(1,2),(1,3),(2,3),(2,6),(2,4),(2,5),(3,6),(4,5)]\n",
    "\tG = {}\n",
    "\tfor (x,y) in flights: make_link(G,x,y)\n",
    "\n",
    "\tfor v in [1,2,3,4,5,6]:\n",
    "\t\tprint(v)\n",
    "\t\tprint(expected_C(G,v))\n",
    "\t\tprint(clustering_coefficient(G,v))"
   ]
  },
  {
   "cell_type": "code",
   "execution_count": null,
   "id": "f6192d9d-3fab-4c98-96f3-de79ed931420",
   "metadata": {},
   "outputs": [],
   "source": [
    "# 12.19 Bounds on the Estimate\n",
    "\n",
    "    # "
   ]
  },
  {
   "cell_type": "code",
   "execution_count": null,
   "id": "6d381656-a404-4e1c-9a35-6fdab4495428",
   "metadata": {},
   "outputs": [],
   "source": [
    "# Done (12)\n",
    "# Lesson Rating\n",
    "# You just completed (12)\n",
    "# How was it? ()\n",
    "# Suggested Improvements: "
   ]
  }
 ],
 "metadata": {
  "kernelspec": {
   "display_name": "Python [conda env:base] *",
   "language": "python",
   "name": "conda-base-py"
  },
  "language_info": {
   "codemirror_mode": {
    "name": "ipython",
    "version": 3
   },
   "file_extension": ".py",
   "mimetype": "text/x-python",
   "name": "python",
   "nbconvert_exporter": "python",
   "pygments_lexer": "ipython3",
   "version": "3.12.7"
  }
 },
 "nbformat": 4,
 "nbformat_minor": 5
}
