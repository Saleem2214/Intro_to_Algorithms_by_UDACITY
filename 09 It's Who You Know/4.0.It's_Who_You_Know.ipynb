{
 "cells": [
  {
   "cell_type": "markdown",
   "id": "a9a27e9c-adbb-45ef-923c-7e15936b36e5",
   "metadata": {},
   "source": [
    "# It's Who You Know (Lesson/Unit 4)"
   ]
  },
  {
   "cell_type": "code",
   "execution_count": null,
   "id": "5c69d763-bcb8-4e02-bdae-3737283bd677",
   "metadata": {},
   "outputs": [],
   "source": [
    "# 9.1 Welcome ترحيب\n",
    "\n",
    "    # The video discusses the evolution of social networks \n",
    "    # and the importance of statistics in summarizing complex \n",
    "    # structures like social networks\n",
    "\n",
    "    # الفيديو يتحدث عن تطور الشبكات الاجتماعية\n",
    "    # وأهمية الإحصائيات في تلخيص الهياكل المعقدة مثل الشبكات الاجتماعية."
   ]
  },
  {
   "cell_type": "code",
   "execution_count": 3,
   "id": "d54561c3-a58d-4e62-8483-0edd794a994d",
   "metadata": {},
   "outputs": [
    {
     "name": "stdout",
     "output_type": "stream",
     "text": [
      "mouse: 12.0725\n",
      "frog: 27.3\n",
      "sparrow: 30.2096\n",
      "rabbit: 54.6\n",
      "dog: 114.0\n",
      "shark: 167.2\n",
      "lion: 255.4\n",
      "horse: 318.2\n",
      "human: 415.0\n",
      "hippopotamus: 832.3\n",
      "elephant: 2155.0\n"
     ]
    }
   ],
   "source": [
    "# 9.2 Introduction مقدمة\n",
    "\n",
    "# UNIT 4: Magic Trick.\n",
    "#    Computing the best item before the question is asked.\n",
    "#\n",
    "#          animal          speed   weight lifespan brain\n",
    "#                          (mph)  (kg)  (years) mass (g)\n",
    "animals = [(\"dog\",          46,     35,     13,    280),\n",
    "           (\"elephant\",     30,   3500,     50,   6250),\n",
    "           (\"frog\",         5,     30,      5,      3),\n",
    "           (\"hippopotamus\",45,   1600,     45,    573),\n",
    "           (\"horse\",        40,    385,     30,    642),\n",
    "           (\"human\",        27,     80,     78,   2000),\n",
    "           (\"lion\",        50,    250,     30,    454),\n",
    "           (\"mouse\",        8,    0.025,     2,  0.625),\n",
    "           (\"rabbit\",      25,      4,     12,     40),\n",
    "           (\"shark\",       26,    230,     20,     92),\n",
    "           (\"sparrow\",     16,   0.024,      7,      2)]\n",
    "\n",
    "def importance_rank(items, weights):\n",
    "    names = [animal[0] for animal in items]\n",
    "    scores = [sum([a*b for (a,b) in zip(item[1:], weights)]) for item in items]\n",
    "    results = list(zip(scores, names))\n",
    "    results.sort()\n",
    "    return results\n",
    "\n",
    "answer = importance_rank(animals, (1, 0.4, 2, 0.1))\n",
    "\n",
    "for score, animal in answer:\n",
    "    print(f\"{animal}: {score}\")\n",
    "    \n",
    "# Go to Quiz (Magic Trick)\n",
    "    # 2. rabbit 🐰 \n"
   ]
  },
  {
   "cell_type": "code",
   "execution_count": null,
   "id": "e796f13d-b7db-401d-a56f-b0cb7c0016ae",
   "metadata": {},
   "outputs": [],
   "source": [
    "# 9.3 Types Of Centrality أنواع المركزية\n",
    "\n",
    "    # Social Network Analysis:\n",
    "        # - Betweenness Centrality\n",
    "        # - Closeness Centrality\n",
    "        # - Eigenvector Centrality\n",
    "        # - Node Centrality"
   ]
  },
  {
   "cell_type": "code",
   "execution_count": null,
   "id": "a0d579e8-114f-4f1f-88e2-d52e97b5403f",
   "metadata": {},
   "outputs": [],
   "source": [
    "# 9.4 Degree Centrality مركزية الدرجة\n",
    "\n",
    "    # edge = Centrality\n",
    "\n",
    "# Go to Quiz ()\n",
    "    # [6]\n"
   ]
  },
  {
   "cell_type": "code",
   "execution_count": null,
   "id": "a7385749-47c5-4203-906c-3676d8a7a94d",
   "metadata": {},
   "outputs": [],
   "source": [
    "# 9.5 Computing Statistics الإحصائيات الحاسوبية\n",
    "\n",
    "    # List of centerality Scores (L)\n",
    "        # - How many?\n",
    "        # - Largest?\n",
    "        # - Total?\n",
    "        # - # of scores between X and Y?"
   ]
  },
  {
   "cell_type": "code",
   "execution_count": null,
   "id": "e99a4db4-d47f-4123-bf52-f081cec790a9",
   "metadata": {},
   "outputs": [],
   "source": [
    "# 9.6 Types Of Statistics انواع الاحصائيات\n",
    "\n",
    "    # mmmm... That's some good Statistics!\n",
    "        # - maximum:  Largest value m L.\n",
    "        # - miximum:  Smallest value m L.\n",
    "        # - midpoint: Average of max & min.\n",
    "        # - mean:     Average of value in L.\n",
    "        # - mode:     most common value in L.\n",
    "        # - median:   middlest of value in L. (half bigger, half smaller)"
   ]
  },
  {
   "cell_type": "code",
   "execution_count": null,
   "id": "2f372525-4fec-4f51-985d-fc75c9e6b436",
   "metadata": {},
   "outputs": [],
   "source": [
    "# 9.7 Statistics By Sorting الإحصائيات وفق الفرز\n",
    "\n",
    "    # - maximum:  L[0]\n",
    "    # - miximum:  L[n-1]\n",
    "    # - midpoint: (L[0]+L[n-1])/2.0\n",
    "    # - median:   L[n/2] \n",
    "\n",
    "# Go to Quiz ()\n",
    "    # [54]\n"
   ]
  },
  {
   "cell_type": "code",
   "execution_count": null,
   "id": "8641f466-efff-4f0b-838e-255a845d3754",
   "metadata": {},
   "outputs": [],
   "source": [
    "# 9.8 Statistics On Unsorted Lists إحصائيات حول القوائم غير المفرزة\n",
    "\n",
    "    # http://www.youtube.com/watch?v=2HjspVV0jK4"
   ]
  },
  {
   "cell_type": "code",
   "execution_count": 5,
   "id": "e6721adb-08cf-455a-a352-59dd2f0d39a7",
   "metadata": {},
   "outputs": [
    {
     "name": "stdout",
     "output_type": "stream",
     "text": [
      "2.6666666666666665\n"
     ]
    }
   ],
   "source": [
    "# 9.9 Mean متوسط\n",
    "\n",
    "# List of node centrality values from example graph\n",
    "L = [2, 3, 2, 3, 2, 4]\n",
    "\n",
    "def mean(L):\n",
    "    total = 0\n",
    "    for i in range(len(L)):\n",
    "        total += L[i]\n",
    "    return (0.0 + total) / len(L)\n",
    "\n",
    "print(mean(L))\n",
    "\n",
    "# Go to Quiz (What is the running time of mean?)\n",
    "    # 3. Θ(n)"
   ]
  },
  {
   "cell_type": "code",
   "execution_count": 7,
   "id": "e683e374-8909-4c5e-b00b-7b35ff239a86",
   "metadata": {},
   "outputs": [],
   "source": [
    "# 9.10 Extreme Values القيم المتطرفة\n",
    "\n",
    "def max(L):\n",
    "    # return the maximum value in L\n",
    "    if not L:  # handle empty list case\n",
    "        return None\n",
    "    \n",
    "    max_value = L[0]\n",
    "    for num in L[1:]:\n",
    "        if num > max_value:\n",
    "            max_value = num\n",
    "    return max_value\n",
    "\n",
    "def test():\n",
    "    L = [1, 2, 3, 4]\n",
    "    assert 4 == max(L)\n",
    "    L = [3, 6, 10, 9, 3]\n",
    "    assert 10 == max(L)\n",
    "    L = [-5, -2, -8, -1]\n",
    "    assert -1 == max(L)\n",
    "    L = [5]\n",
    "    assert 5 == max(L)\n",
    "    L = []\n",
    "    assert None == max(L)\n",
    "\n",
    "test()\n",
    "    \n",
    "# Go to Quiz ()\n",
    "    # []\n"
   ]
  },
  {
   "cell_type": "code",
   "execution_count": null,
   "id": "e0b708f3-057b-4ce2-a9c5-e18ac66ea7b1",
   "metadata": {},
   "outputs": [],
   "source": [
    "# 9.11 Order Statistics ترتيب الاحصائيات\n",
    "\n",
    "    # min:            Order statistic  1\n",
    "    # 2nd Smallest:   Order statistic  1+1=2\n",
    "    # medran:         Order statistic  n/2\n",
    "    # 2nd Largest:    Order statistic  n-1\n",
    "    # max:            Order statistic  n\n",
    "\n",
    "# Go to Quiz ()\n",
    "    # 4. Ashley"
   ]
  },
  {
   "cell_type": "code",
   "execution_count": 9,
   "id": "c7691097-2767-4a9b-b251-879f96416257",
   "metadata": {},
   "outputs": [
    {
     "name": "stdout",
     "output_type": "stream",
     "text": [
      "Most popular female name: Jessica with 27938 babies\n",
      "Second most popular female name: Ashley with 26602 babies\n"
     ]
    }
   ],
   "source": [
    "# 9.12 Code For 2nd Highest الكود للثاني الأعلى\n",
    "\n",
    "f = open('yob1995.txt', 'r')\n",
    "maxname = \"none\"\n",
    "maxval = 0\n",
    "max2name = \"none\"\n",
    "max2val = 0\n",
    "\n",
    "for line in f:\n",
    "    (name, sex, count) = line.strip().split(',')\n",
    "    count = int(count)\n",
    "    if sex == 'F':\n",
    "        if count > maxval:\n",
    "            max2name = maxname\n",
    "            max2val = maxval\n",
    "            maxname = name\n",
    "            maxval = count\n",
    "        elif count > max2val:\n",
    "            max2name = name\n",
    "            max2val = count\n",
    "\n",
    "f.close()\n",
    "\n",
    "print(\"Most popular female name:\", maxname, \"with\", maxval, \"babies\")\n",
    "print(\"Second most popular female name:\", max2name, \"with\", max2val, \"babies\")"
   ]
  },
  {
   "cell_type": "code",
   "execution_count": null,
   "id": "31ad1154-f9c3-4afe-aa0a-471d3787cd9d",
   "metadata": {},
   "outputs": [],
   "source": [
    "# 9.13 Top K Problem مشكلة أعلى K\n",
    "\n",
    "    # \n",
    "\n",
    "# Go to Quiz (Best Big Theta?)\n",
    "    # Selection (K): X      X       X     loglogn  100\n",
    "        # /Insertion: Θ(nk)\n",
    "    # Sort (K):      n/2    Sqer(n) logn  X        X\n",
    "        # Θ(nlogn)"
   ]
  },
  {
   "cell_type": "code",
   "execution_count": null,
   "id": "74650525-3a67-429d-98c1-7e84fefdb7e9",
   "metadata": {},
   "outputs": [],
   "source": [
    "# 9.14 Randomized Top K أعلى K عشوائيًا\n",
    "\n",
    "    # L[8] = اي ان الموقع رقم ثمانية 66  = 66"
   ]
  },
  {
   "cell_type": "code",
   "execution_count": 11,
   "id": "612f00a8-d023-438f-a4ce-325d3dd71600",
   "metadata": {},
   "outputs": [],
   "source": [
    "# 9.15 Partitioning Around V التقسيم حول V\n",
    "\n",
    "def partition(L, v):\n",
    "    P = []\n",
    "    # First add all elements less than v\n",
    "    for num in L:\n",
    "        if num < v:\n",
    "            P.append(num)\n",
    "    \n",
    "    # Then add all elements equal to v\n",
    "    for num in L:\n",
    "        if num == v:\n",
    "            P.append(num)\n",
    "    \n",
    "    # Finally add all elements greater than v\n",
    "    for num in L:\n",
    "        if num > v:\n",
    "            P.append(num)\n",
    "    \n",
    "    return P\n",
    "\n",
    "def rank(L, v):\n",
    "    pos = 0\n",
    "    for val in L:\n",
    "        if val < v:\n",
    "            pos += 1\n",
    "    return pos"
   ]
  },
  {
   "cell_type": "code",
   "execution_count": null,
   "id": "73eefda6-8258-4c60-858f-6b47bbed85fc",
   "metadata": {},
   "outputs": [],
   "source": [
    "# 9.16 Top K Via Partitioning \n",
    "\n",
    "    # 1. rank(v) < K\n",
    "    # 2. rank(v) = K\n",
    "    # 3. rank(v) > K"
   ]
  },
  {
   "cell_type": "code",
   "execution_count": null,
   "id": "5fa80718-0c3d-414e-9d86-104d6c8430cc",
   "metadata": {},
   "outputs": [],
   "source": [
    "# 9.17 Three Partitioning Cases ثلاث حالات تقسيم\n",
    "\n",
    "    # 1. rank(v) < K\n",
    "    # 2. rank(v) = K\n",
    "    # 3. rank(v) > K"
   ]
  },
  {
   "cell_type": "code",
   "execution_count": 15,
   "id": "f16e48c1-6d94-4a28-b270-4bac1d00b680",
   "metadata": {},
   "outputs": [
    {
     "name": "stdout",
     "output_type": "stream",
     "text": [
      "[31, 28, 11, 27, 33]\n"
     ]
    }
   ],
   "source": [
    "# 9.18 Top K Code كود اعلى K\n",
    "\n",
    "# List of distinct two-digit values.\n",
    "# Where will 84 be located in the sorted version\n",
    "import random  # This line was missing\n",
    "\n",
    "L = [31, 45, 91, 51, 66, 82, 28, 33, 11, 89, 84, 27, 36]\n",
    "\n",
    "def partition(L, v):\n",
    "    smaller = []\n",
    "    bigger = []\n",
    "    for val in L:\n",
    "        if val < v: smaller += [val]\n",
    "        if val > v: bigger += [val]\n",
    "    return (smaller, [v], bigger)\n",
    "\n",
    "def top_k(L, k):\n",
    "    if len(L) <= k:\n",
    "        return L\n",
    "    v = L[random.randrange(len(L))]  # Requires random module\n",
    "    (left, middle, right) = partition(L, v)\n",
    "    if len(left) == k: \n",
    "        return left\n",
    "    if len(left) + 1 == k: \n",
    "        return left + middle\n",
    "    if len(left) > k: \n",
    "        return top_k(left, k)\n",
    "    return left + middle + top_k(right, k - len(left) - 1)\n",
    "\n",
    "print(top_k(L, 5))"
   ]
  },
  {
   "cell_type": "code",
   "execution_count": null,
   "id": "1d7f0e27-001b-44a0-b142-b2bce4ccda9d",
   "metadata": {},
   "outputs": [],
   "source": [
    "# 9.19 Analysis Of Top K تحليل أفضل K\n",
    "\n",
    "    # "
   ]
  },
  {
   "cell_type": "code",
   "execution_count": null,
   "id": "c841bbb7-f0a3-4683-9c05-2b847689d085",
   "metadata": {},
   "outputs": [],
   "source": [
    "# 9.20 Top K Summary ملخص اغلى K\n",
    "\n",
    "    # Sort:                Θ(nlog)\n",
    "    # Selection/Insertion: Θ(nk)\n",
    "    # Partition:           Θ(n)\n",
    "    # Heap:                Θ                "
   ]
  },
  {
   "cell_type": "code",
   "execution_count": null,
   "id": "cfc373ba-2a83-4dc3-baec-7f4e9d3c257e",
   "metadata": {},
   "outputs": [],
   "source": [
    "# 9.21 Heaps Of Fun أكوام من المتعة\n",
    "\n",
    "    # - Insert.\n",
    "    # - Find mim.\n",
    "    # - Remove min.\n",
    "\n",
    "# Go to Quiz (Θ(1) / Θ(logn) / Θ(n))\n",
    "    # Insert:      \n",
    "        # Order list   >>> Θ(n)\n",
    "        # Unorder list >>> Θ(1)\n",
    "    # Find/Remove:\n",
    "        # Order list   >>> Θ(1)\n",
    "        # Unorder list >>> Θ(n)"
   ]
  },
  {
   "cell_type": "code",
   "execution_count": null,
   "id": "718144c1-4075-4f91-af7d-792f76140a03",
   "metadata": {},
   "outputs": [],
   "source": [
    "# 9.22 Heap Height اعلى كومة\n",
    "\n",
    "    # Balanced binary tree>\n",
    "    # Value in a node is not bigger ..\n",
    "\n",
    "# Go to Quiz ()\n",
    "    # 3. Θ(logn)"
   ]
  },
  {
   "cell_type": "code",
   "execution_count": null,
   "id": "e2a6c1f8-c9d8-438a-a0a2-077240c182db",
   "metadata": {},
   "outputs": [],
   "source": [
    "# 9.23 Properties Of A Heap خصائص الكومة\n",
    "\n",
    "    # \n",
    "\n",
    "# Go to Quiz ()\n",
    "    # [3]"
   ]
  },
  {
   "cell_type": "code",
   "execution_count": null,
   "id": "44efe2fa-ce5c-476d-9c92-90ae0243c0b5",
   "metadata": {},
   "outputs": [],
   "source": [
    "# 9.24 Heap Number ترقيم الكومة\n",
    "\n",
    "    # Can store in an array!\n",
    "\n",
    "# Go to Quiz ()\n",
    "    # [146]"
   ]
  },
  {
   "cell_type": "code",
   "execution_count": null,
   "id": "eeaec3ae-ec23-4695-84ef-2db483ad0e51",
   "metadata": {},
   "outputs": [],
   "source": [
    "# 9.25 Establishing The Heap Property\n",
    "\n",
    "    # \n",
    "\n",
    "# Go to Quiz ()\n",
    "    # [10]"
   ]
  },
  {
   "cell_type": "code",
   "execution_count": null,
   "id": "53f17593-92a8-4b2e-b0e7-f7071a163467",
   "metadata": {},
   "outputs": [],
   "source": [
    "# 9.26 Patch Up A Heap\n",
    "\n",
    "    # \n",
    "\n",
    "# Go to Quiz ()\n",
    "    # [4]\n"
   ]
  },
  {
   "cell_type": "code",
   "execution_count": null,
   "id": "0b229a8c-373f-41f0-9d84-30ab33f23622",
   "metadata": {},
   "outputs": [],
   "source": [
    "# 9.27 Down Heapify\n",
    "\n",
    "    # \n",
    "\n",
    "# Go to Quiz ()\n",
    "    # []\n"
   ]
  },
  {
   "cell_type": "code",
   "execution_count": null,
   "id": "12113aa7-afca-4b5c-83f1-7aef0d9fda5a",
   "metadata": {},
   "outputs": [],
   "source": [
    "# 9.28 Running Time Of Down Heapify\n",
    "\n",
    "    # \n",
    "\n",
    "# Go to Quiz ()\n",
    "    # 3. Θ(logn)\n"
   ]
  },
  {
   "cell_type": "code",
   "execution_count": null,
   "id": "98e75f3b-2e7c-4bce-ab4c-390da01359f0",
   "metadata": {},
   "outputs": [],
   "source": [
    "# 9.29 Build Heap\n",
    "\n",
    "    # \n",
    "\n",
    "# Go to Quiz ()\n",
    "    # []\n"
   ]
  },
  {
   "cell_type": "code",
   "execution_count": 1,
   "id": "1e9757b6-5abc-4c29-a0e5-6020afcf6e89",
   "metadata": {},
   "outputs": [],
   "source": [
    "# 9.30 Remove Min\n",
    "\n",
    "#\n",
    "# Implement remove_min\n",
    "#\n",
    "\n",
    "def remove_min(L):\n",
    "    if len(L) == 0:\n",
    "        return L\n",
    "    \n",
    "    # استبدال العنصر الأول (الأصغر) بالعنصر الأخير\n",
    "    L[0] = L[-1]\n",
    "    \n",
    "    # إزالة العنصر الأخير\n",
    "    L.pop()\n",
    "    \n",
    "    # إعادة بناء خصائص الكومة بدءًا من الجذر\n",
    "    if len(L) > 0:\n",
    "        down_heapify(L, 0)\n",
    "    \n",
    "    return L\n",
    "\n",
    "def parent(i): \n",
    "    return (i-1)/2\n",
    "def left_child(i): \n",
    "    return 2*i+1\n",
    "def right_child(i): \n",
    "    return 2*i+2\n",
    "def is_leaf(L,i): \n",
    "    return (left_child(i) >= len(L)) and (right_child(i) >= len(L))\n",
    "def one_child(L,i): \n",
    "    return (left_child(i) < len(L)) and (right_child(i) >= len(L))\n",
    "\n",
    "# Call this routine if the heap rooted at i satisfies the heap property\n",
    "# *except* perhaps i to its immediate children\n",
    "def down_heapify(L, i):\n",
    "    # If i is a leaf, heap property holds\n",
    "    if is_leaf(L, i): \n",
    "        return\n",
    "    # If i has one child...\n",
    "    if one_child(L, i):\n",
    "        # check heap property\n",
    "        if L[i] > L[left_child(i)]:\n",
    "            # If it fails, swap, fixing i and its child (a leaf)\n",
    "            (L[i], L[left_child(i)]) = (L[left_child(i)], L[i])\n",
    "        return\n",
    "    # If i has two children...\n",
    "    # check heap property\n",
    "    if min(L[left_child(i)], L[right_child(i)]) >= L[i]: \n",
    "        return\n",
    "    # If it fails, see which child is the smaller\n",
    "    # and swap i's value into that child\n",
    "    # Afterwards, recurse into that child, which might violate\n",
    "    if L[left_child(i)] < L[right_child(i)]:\n",
    "        # Swap into left child\n",
    "        (L[i], L[left_child(i)]) = (L[left_child(i)], L[i])\n",
    "        down_heapify(L, left_child(i))\n",
    "        return\n",
    "    else:\n",
    "        (L[i], L[right_child(i)]) = (L[right_child(i)], L[i])\n",
    "        down_heapify(L, right_child(i))\n",
    "        return\n",
    "\n",
    "#########\n",
    "# Testing Code\n",
    "#\n",
    "\n",
    "# build_heap\n",
    "def build_heap(L):\n",
    "    for i in range(len(L)-1, -1, -1):\n",
    "        down_heapify(L, i)\n",
    "    return L\n",
    "\n",
    "def test():\n",
    "    L = range(10)\n",
    "    build_heap(L)\n",
    "    remove_min(L)\n",
    "    # now, the new minimum should be 1\n",
    "    assert L[0] == 1"
   ]
  },
  {
   "cell_type": "code",
   "execution_count": null,
   "id": "9c53fe56-8162-41fa-bbae-5b1bbaec8334",
   "metadata": {},
   "outputs": [],
   "source": [
    "# 9.31 Heap Sort\n",
    "\n",
    "    # "
   ]
  },
  {
   "cell_type": "code",
   "execution_count": null,
   "id": "4fc71da9-0a24-4b8d-bfc6-48c1bd2605e6",
   "metadata": {},
   "outputs": [],
   "source": [
    "# 9.32 Heap Sort Performance\n",
    "\n",
    "    # \n",
    "\n",
    "# Go to Quiz ()\n",
    "    # 3. Θ(nlogn)\n"
   ]
  },
  {
   "cell_type": "code",
   "execution_count": null,
   "id": "26f38a51-e425-4304-a232-4ba85baad9c6",
   "metadata": {},
   "outputs": [],
   "source": [
    "# 9.33 Inserting Elements\n",
    "\n",
    "    # up-heapify and insert"
   ]
  },
  {
   "cell_type": "code",
   "execution_count": null,
   "id": "541dad33-e84d-4cc0-9b7e-f72510e77d5a",
   "metadata": {},
   "outputs": [],
   "source": [
    "# Done (9)\n",
    "# Lesson Rating\n",
    "# You just completed (9)\n",
    "# How was it? ()\n",
    "# Suggested Improvements: "
   ]
  }
 ],
 "metadata": {
  "kernelspec": {
   "display_name": "Python [conda env:base] *",
   "language": "python",
   "name": "conda-base-py"
  },
  "language_info": {
   "codemirror_mode": {
    "name": "ipython",
    "version": 3
   },
   "file_extension": ".py",
   "mimetype": "text/x-python",
   "name": "python",
   "nbconvert_exporter": "python",
   "pygments_lexer": "ipython3",
   "version": "3.12.7"
  }
 },
 "nbformat": 4,
 "nbformat_minor": 5
}
