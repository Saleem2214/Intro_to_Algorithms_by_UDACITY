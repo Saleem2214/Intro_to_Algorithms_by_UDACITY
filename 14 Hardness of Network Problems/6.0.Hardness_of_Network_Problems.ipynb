{
 "cells": [
  {
   "cell_type": "markdown",
   "id": "b3bd15f8-b6d4-4ba0-afd8-970b4fd5c419",
   "metadata": {},
   "source": [
    "# Hardness of Network Problems (Lesson/Unit 6)"
   ]
  },
  {
   "cell_type": "code",
   "execution_count": null,
   "id": "7a32b1d5-d71e-465e-a2ec-ac6c85e9f378",
   "metadata": {},
   "outputs": [],
   "source": [
    "# 14.1 Introduction\n",
    "\n",
    "    # "
   ]
  },
  {
   "cell_type": "code",
   "execution_count": 3,
   "id": "593c92a5-680b-4ee7-b77f-abe7fb863d19",
   "metadata": {},
   "outputs": [],
   "source": [
    "# 14.2 Tetristan تتريستان\n",
    "\n",
    "    # Map of Tetristan\n",
    "\n",
    "# Go to Quiz ()\n",
    "    # [3]"
   ]
  },
  {
   "cell_type": "code",
   "execution_count": null,
   "id": "6a43b0e3-0991-4b70-8fe5-0f4ae24b8256",
   "metadata": {},
   "outputs": [],
   "source": [
    "# 14.3 Efficient Algorithms خوارزميات فعالة\n",
    "\n",
    "    # - connectivity of nodes (u, v). Θ(n+m)\n",
    "    # - Shortest path in weighted graph. Θ(mlog)\n",
    "    # - removing the minimum value of a heap. Θ(logn)\n",
    "    # - all pairs hortest paths3. Θ(n^3)"
   ]
  },
  {
   "cell_type": "code",
   "execution_count": null,
   "id": "2713d5d5-900a-4f3d-95cc-66cfb1946250",
   "metadata": {},
   "outputs": [],
   "source": [
    "# 14.4 Exponential Running Time وقت التشغيل الأسّي\n",
    "\n",
    "    # Θ(n^2) not efficient\n",
    "\n",
    "    # Polynomial running time\n",
    "            # Between them a gap - the great unknown\n",
    "    # Exponential running time"
   ]
  },
  {
   "cell_type": "code",
   "execution_count": null,
   "id": "61c4a949-b79e-445a-ad63-9de6e014de36",
   "metadata": {},
   "outputs": [],
   "source": [
    "# 14.5 Degrees of Hardness درجات الصلابة\n",
    "\n",
    "    # Not Computable مشكلات غير قابلة للحساب\n",
    "    # Computable, At Least Exponential Time مشكلات قابلة للحساب بوقت أُسّي على الأقل\n",
    "    # Computable in Polynomial Time مشكلات قابلة للحساب بوقت كثير الحدود\n",
    "    # Computable in Linear Time مشكلات قابلة للحساب بوقت خطي\n",
    "\n",
    "    # Lower Bound أقل وقت نظري مطلوب لحل المشكلة\n",
    "    # Upper Bound أفضل وقت معروف حاليًا لحل المشكلة\n",
    "\n",
    "# Go to Quiz (What's a good way to find an upper bond on a problem's hardness?\n",
    "    # 3. Devise ... UB."
   ]
  },
  {
   "cell_type": "code",
   "execution_count": null,
   "id": "9550611f-01fa-447f-8635-cc0b772ca4a1",
   "metadata": {},
   "outputs": [],
   "source": [
    "# 14.6 Lower Bound on Complexity\n",
    "\n",
    "    # Easy >>>>>>>>> Hard.\n",
    "\n",
    "    # Upper Bound = Θ(n)\n",
    "    # Lower Bound = Θ(n)\n",
    "\n",
    "# Go to Quiz (Findig the max of a list (n)?)\n",
    "    # 2. Θ(n): ...max)."
   ]
  },
  {
   "cell_type": "code",
   "execution_count": null,
   "id": "45fbd1ce-53a9-48a7-a44e-7a442bfceb9c",
   "metadata": {},
   "outputs": [],
   "source": [
    "# 14.7 Decision Problems مشاكل القرار\n",
    "\n",
    "    # Input >>> [] >>> 0/1 / Yes/No."
   ]
  },
  {
   "cell_type": "code",
   "execution_count": null,
   "id": "4d0ae5fc-339a-4dc8-8a06-dc1a020d0a87",
   "metadata": {},
   "outputs": [],
   "source": [
    "# 14.8 Longest Simple Path أطول مسار بسيط\n",
    "\n",
    "    # Longest & Simple Path:\n",
    "        # Simple Path: No repeated nodes. a-g.\n",
    "            # any shortest path = Simple path.\n",
    "        # path's length is the number of nodes in the path.\n",
    "        # Longest Simple Path = n.\n",
    "\n",
    "# Go to Quiz ()\n",
    "    # [4+5+6+7]"
   ]
  },
  {
   "cell_type": "code",
   "execution_count": 13,
   "id": "a7218946-1e6d-4794-a744-743742aec266",
   "metadata": {},
   "outputs": [
    {
     "name": "stdout",
     "output_type": "stream",
     "text": [
      "[1, 3, 2, 4, 5]\n"
     ]
    }
   ],
   "source": [
    "# 14.9 Reduction: Long and Simple Path الاختزال: مسار طويل وبسيط\n",
    "\n",
    "#\n",
    "# Modify long_and_simple_path\n",
    "# to build and return the path\n",
    "#\n",
    "\n",
    "# Find me that path!\n",
    "def long_and_simple_path(G, u, v, l):\n",
    "    \"\"\"\n",
    "    G: Graph (as adjacency list)\n",
    "    u: starting node\n",
    "    v: ending node\n",
    "    l: minimum length of path (number of edges)\n",
    "    \"\"\"\n",
    "    # استخدام خوارزمية DFS للعثور على مسار بسيط بطول >= l\n",
    "    def dfs(current, path, visited):\n",
    "        if current == v and len(path) >= l:\n",
    "            return path + [v]\n",
    "        for neighbor in G[current]:\n",
    "            if neighbor not in visited:\n",
    "                new_visited = visited.copy()\n",
    "                new_visited.add(neighbor)\n",
    "                result = dfs(neighbor, path + [current], new_visited)\n",
    "                if result:\n",
    "                    return result\n",
    "        return None\n",
    "\n",
    "    result_path = dfs(u, [], {u})\n",
    "    return result_path if result_path else False\n",
    "\n",
    "#############\n",
    "\n",
    "def make_link(G, node1, node2):\n",
    "\tif node1 not in G:\n",
    "\t\tG[node1] = {}\n",
    "\t(G[node1])[node2] = 1\n",
    "\tif node2 not in G:\n",
    "\t\tG[node2] = {}\n",
    "\t(G[node2])[node1] = 1\n",
    "\treturn G\n",
    "\n",
    "def break_link(G, node1, node2):\n",
    "\tif node1 not in G:\n",
    "\t\tprint(\"error: breaking link in a non-existent node\")\n",
    "\t\treturn\n",
    "\tif node2 not in G:\n",
    "\t\tprint(\"error: breaking link in a non-existent node\")\n",
    "\t\treturn\n",
    "\tif node2 not in G[node1]:\n",
    "\t\tprint(\"error: breaking non-existent link\")\n",
    "\t\treturn\n",
    "\tif node1 not in G[node2]:\n",
    "\t\tprint(\"error: breaking non-existent link\")\n",
    "\t\treturn\n",
    "\tdel G[node1][node2]\n",
    "\tdel G[node2][node1]\n",
    "\treturn G\n",
    "\n",
    "def all_perms(seq):\n",
    "\tif len(seq) == 0: return [[]]\n",
    "\tif len(seq) == 1: return [seq, []]\n",
    "\tmost = all_perms(seq[1:])\n",
    "\tfirst = seq[0]\n",
    "\trest = []\n",
    "\tfor perm in most:\n",
    "\t\tfor i in range(len(perm)+1):\n",
    "\t\t\trest.append(perm[0:i] + [first] + perm[i:])\n",
    "\treturn most + rest\n",
    "\n",
    "def check_path(G,path):\n",
    "\tfor i in range(len(path)-1):\n",
    "\t\tif path[i+1] not in G[path[i]]: return False\n",
    "\treturn True\n",
    "\n",
    "def long_and_simple_decision(G,u,v,l):\n",
    "\tif l == 0:\n",
    "\t\treturn False\n",
    "\tn = len(G)\n",
    "\tperms = all_perms(G.keys())\n",
    "\tfor perm in perms:\n",
    "\t\t# check path\n",
    "\t\tif (len(perm) >= l and check_path(G,perm) and perm[0] == u\n",
    "\t\t\tand perm[len(perm)-1] == v):\n",
    "\t\t\treturn True\n",
    "\treturn False\n",
    "\n",
    "if __name__ == '__main__':\n",
    "\tflights = [(1,2),(1,3),(2,3),(2,6),(2,4),(2,5),(3,6),(4,5)]\n",
    "\tG = {}\n",
    "\tfor (x,y) in flights: make_link(G,x,y)\n",
    "\tprint(long_and_simple_path(G, 1, 5, 4))"
   ]
  },
  {
   "cell_type": "code",
   "execution_count": null,
   "id": "156cc979-9d6f-4728-bb5b-850f7a6bbb64",
   "metadata": {},
   "outputs": [],
   "source": [
    "# 14.10 Polynomial Time Decidable Problems مسائل قابلة للحل في كثيرات الحدود الزمنية\n",
    "\n",
    "    # P: Polynomial Time Decidable Problems. Θ(n^k)\n",
    "    # Θ(logn)∈ Θ(n^k) >>> k=1 \n",
    "    # The class P is often contrasted with the class NP.\n",
    "\n",
    "    # N = Polynomial.\n",
    "    # P = Non-deterministic.\n",
    "    # NP = Non-deterministic Polynomial."
   ]
  },
  {
   "cell_type": "code",
   "execution_count": null,
   "id": "31dc90f7-e064-450b-a6e4-bf41ea32ee6e",
   "metadata": {},
   "outputs": [],
   "source": [
    "# 14.11 Non-deterministic Polynomial Time Decidable Problem مسألة حدودية غير حتمية قابلة للحل زمنيًا\n",
    "\n",
    "    # ad Sudoku"
   ]
  },
  {
   "cell_type": "code",
   "execution_count": null,
   "id": "66f8574f-49ba-4016-bcc6-1c1157c74843",
   "metadata": {},
   "outputs": [],
   "source": [
    "# 14.12 Accepting Certificate قبول الشهادة\n",
    "\n",
    "    # A problem is in NP if it has a short (Accepting Certificate).\n",
    "        # Quickly: Polynomial time (Yes).\n",
    "        # Short: Polynomial size (Yes).\n",
    "\n",
    "# Go to Quiz ()\n",
    "    # 3. Yes, ... needed."
   ]
  },
  {
   "cell_type": "code",
   "execution_count": null,
   "id": "6d298d05-ba0f-4311-8d6f-0ebbfddbb6f3",
   "metadata": {},
   "outputs": [],
   "source": [
    "# 14.13 Clique Problem مشكلة الزمرة\n",
    "\n",
    "    # Clique = K\n",
    "    # يتم حذف العقد الاقل زواية حتى الوصول الى 4 زمر\n",
    "\n",
    "# Go to Quiz ()\n",
    "    # [16] = 7+5+3+1"
   ]
  },
  {
   "cell_type": "code",
   "execution_count": null,
   "id": "053ebe8a-7def-454c-b16d-b40442ff16ea",
   "metadata": {},
   "outputs": [],
   "source": [
    "# 14.14 Clique Problem in NP?\n",
    "\n",
    "    # 1. Certificate?\n",
    "    # 2. Verification algorithm?"
   ]
  },
  {
   "cell_type": "code",
   "execution_count": null,
   "id": "1e50c84f-601d-4bf6-99fe-562190c12c99",
   "metadata": {},
   "outputs": [],
   "source": [
    "# 14.15 Good Guessing تخمين جيد\n",
    "\n",
    "    # "
   ]
  },
  {
   "cell_type": "code",
   "execution_count": null,
   "id": "c7b800f3-2aed-4ca4-baa9-034a504d0641",
   "metadata": {},
   "outputs": [],
   "source": [
    "# 14.16 Exponential Upperbound الحد الأعلى الأسّي\n",
    "\n",
    "    # NP ⊆ Exp."
   ]
  },
  {
   "cell_type": "code",
   "execution_count": null,
   "id": "9c905492-f25b-4b95-9cc3-63608cb4f495",
   "metadata": {},
   "outputs": [],
   "source": [
    "# 14.17 P=NP?\n",
    "\n",
    "    # P ⊆ NP, NP ⊆ Exp.\n",
    "        # P⊆ NP=Exp \n",
    "        # P=NP ⊆ Exp\n",
    "        # P ⊆ NP ⊆ Exp\n",
    "\n",
    "# Go to Quiz (What if P = NP?)\n",
    "    # "
   ]
  },
  {
   "cell_type": "code",
   "execution_count": null,
   "id": "eae074d0-26d9-46c6-b205-95ba0d078695",
   "metadata": {},
   "outputs": [],
   "source": [
    "# 14.18 NP-Hard\n",
    "\n",
    "    # "
   ]
  },
  {
   "cell_type": "code",
   "execution_count": null,
   "id": "5568568a-322e-400f-bbcc-60b1d639e31b",
   "metadata": {},
   "outputs": [],
   "source": [
    "# 14.19 Find the Strangers\n",
    "\n",
    "    # \n",
    "\n",
    "# Go to Quiz ()\n",
    "    # 4. Let ... answer."
   ]
  },
  {
   "cell_type": "code",
   "execution_count": null,
   "id": "56fb9eb9-1309-45d7-8f4a-4e7d29ead556",
   "metadata": {},
   "outputs": [],
   "source": [
    "# 14.20 Reducing to Clique\n",
    "\n",
    "    # "
   ]
  },
  {
   "cell_type": "code",
   "execution_count": null,
   "id": "d968790a-de2a-4e1e-8e30-e1809c238c86",
   "metadata": {},
   "outputs": [],
   "source": [
    "# 14.21 SAT is NP-Hard\n",
    "\n",
    "    # "
   ]
  },
  {
   "cell_type": "code",
   "execution_count": null,
   "id": "1f83654d-64a1-47a2-9322-5fa470daeae9",
   "metadata": {},
   "outputs": [],
   "source": [
    "# 14.22 NP-Completeness\n",
    "\n",
    "    # \n",
    "\n",
    "# Go to Quiz ()\n",
    "    # [1+2+3+4]"
   ]
  },
  {
   "cell_type": "code",
   "execution_count": null,
   "id": "30c6250a-f014-4652-a291-d63e42686d0c",
   "metadata": {},
   "outputs": [],
   "source": [
    "# 14.23 Graph Coloring is NP-Complete\n",
    "\n",
    "    # Map coloring >>> Graph coloring"
   ]
  },
  {
   "cell_type": "code",
   "execution_count": 17,
   "id": "b2994909-347f-4ad0-af0c-54cb2cfc23ae",
   "metadata": {},
   "outputs": [
    {
     "name": "stdout",
     "output_type": "stream",
     "text": [
      "True\n",
      "False\n"
     ]
    }
   ],
   "source": [
    "# 14.24 Solving 3-Colorability\n",
    "\n",
    "############\n",
    "#\n",
    "# Verify a coloring of a graph\n",
    "#\n",
    "############\n",
    "\n",
    "# if cert a k-coloring of G?\n",
    "#   colors in {0, ..., k-1}\n",
    "def verify(G, cert, k):\n",
    "\tif len(cert) != len(G):\n",
    "\t\treturn False\n",
    "\tfor node in cert:\n",
    "\t\tif cert[node] not in range(k):\n",
    "\t\t\treturn False\n",
    "\t\tfor neighbor in G[node]:\n",
    "\t\t\tif cert[node] == cert[neighbor]:\n",
    "\t\t\t\treturn False\n",
    "\treturn True\n",
    "\n",
    "#######\n",
    "#\n",
    "# Testing\n",
    "\n",
    "def make_link(G, node1, node2):\n",
    "\tif node1 not in G:\n",
    "\t\tG[node1] = {}\n",
    "\t(G[node1])[node2] = 1\n",
    "\tif node2 not in G:\n",
    "\t\tG[node2] = {}\n",
    "\t(G[node2])[node1] = 1\n",
    "\treturn G\n",
    "\n",
    "if __name__ == '__main__':\n",
    "\t(a,b,c,d,e,f,g,h) = ('a','b','c','d','e','f','g','h')\n",
    "\tcxns = [(a,c),(a,b),(c,d),(b,d),(d,e),(d,f),(e,g),(f,g),(f,h),(g,h)]\n",
    "\n",
    "\tG = {}\n",
    "\tfor (x,y) in cxns: make_link(G,x,y)\n",
    "\n",
    "\tcert = {}\n",
    "\tfor (node, color) in [(a,0),(b,1),(c,2),(d,0),(e,1),(f,2),(g,0),(h,1)]:\n",
    "\t\tcert[node] = color\n",
    "\tprint(verify(G,cert,3))\n",
    "\n",
    "\tcert = {}\n",
    "\tfor (node, color) in [(a,0),(b,1),(c,2),(d,0),(e,0),(f,1),(g,2),(h,0)]:\n",
    "\t\tcert[node] = color\n",
    "\tprint(verify(G,cert,4))"
   ]
  },
  {
   "cell_type": "code",
   "execution_count": null,
   "id": "0a885284-6045-4c58-b3c2-f78f7b3d0190",
   "metadata": {},
   "outputs": [],
   "source": [
    "# 14.25 Reduce 3-Colorability to SAT\n",
    "\n",
    "    # "
   ]
  },
  {
   "cell_type": "code",
   "execution_count": null,
   "id": "2633a1d3-3af9-4bd1-9e79-1a2f58986fcb",
   "metadata": {},
   "outputs": [],
   "source": [
    "# 14.26 Generating a Formula\n",
    "\n",
    "    # \n",
    "\n",
    "# Go to Quiz ()\n",
    "    # [92]"
   ]
  },
  {
   "cell_type": "code",
   "execution_count": null,
   "id": "c8a29112-6f07-4775-86f9-32f015c99f76",
   "metadata": {},
   "outputs": [],
   "source": [
    "# 14.27 Reduce SAT to 3-Colorability\n",
    "\n",
    "    # "
   ]
  },
  {
   "cell_type": "code",
   "execution_count": null,
   "id": "6b3e9aff-3680-4c9e-a609-25b11832dd19",
   "metadata": {},
   "outputs": [],
   "source": [
    "# 14.28 Making a SAT graph\n",
    "\n",
    "    # "
   ]
  },
  {
   "cell_type": "code",
   "execution_count": null,
   "id": "1673d750-f8d7-4712-bb55-61459fbf8638",
   "metadata": {},
   "outputs": [],
   "source": [
    "# 14.29 Gadgets الأدوات\n",
    "\n",
    "    # "
   ]
  },
  {
   "cell_type": "code",
   "execution_count": null,
   "id": "c0bbdca1-f194-40cd-8f2e-49f5ae195698",
   "metadata": {},
   "outputs": [],
   "source": [
    "# 14.30 4-Colorabiity\n",
    "\n",
    "    # \n",
    "\n",
    "# Go to Quiz ()\n",
    "    # [1+4]"
   ]
  },
  {
   "cell_type": "code",
   "execution_count": null,
   "id": "d590e564-aad8-490f-9409-d4ea8284cfbc",
   "metadata": {},
   "outputs": [],
   "source": [
    "# 14.31 Coloring Planar Graphs\n",
    "\n",
    "    # "
   ]
  },
  {
   "cell_type": "code",
   "execution_count": null,
   "id": "154c725b-5b92-4f1e-b6d7-34be901a91d3",
   "metadata": {},
   "outputs": [],
   "source": [
    "# 14.32 Wrap Up\n",
    "\n",
    "    # "
   ]
  },
  {
   "cell_type": "code",
   "execution_count": null,
   "id": "adb6928c-fa87-4e05-b7b0-8d2625420a64",
   "metadata": {},
   "outputs": [],
   "source": [
    "# Done (14)\n",
    "# Lesson Rating\n",
    "# You just completed (14)\n",
    "# How was it? ()\n",
    "# Suggested Improvements: "
   ]
  }
 ],
 "metadata": {
  "kernelspec": {
   "display_name": "Python [conda env:base] *",
   "language": "python",
   "name": "conda-base-py"
  },
  "language_info": {
   "codemirror_mode": {
    "name": "ipython",
    "version": 3
   },
   "file_extension": ".py",
   "mimetype": "text/x-python",
   "name": "python",
   "nbconvert_exporter": "python",
   "pygments_lexer": "ipython3",
   "version": "3.12.7"
  }
 },
 "nbformat": 4,
 "nbformat_minor": 5
}
