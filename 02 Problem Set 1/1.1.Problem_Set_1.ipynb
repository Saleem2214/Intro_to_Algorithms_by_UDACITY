{
 "cells": [
  {
   "cell_type": "markdown",
   "id": "8d1027d2-cf9e-4fa5-b824-93b594878fe9",
   "metadata": {},
   "source": [
    "# Problem Set 1"
   ]
  },
  {
   "cell_type": "code",
   "execution_count": null,
   "id": "4acb1499-5df9-4a3b-b12c-3e9b810d6319",
   "metadata": {},
   "outputs": [],
   "source": [
    "# 2.1 Eulerian Path\n",
    "\n",
    "# Go to Quiz ()\n",
    "    # 2. Marcie\n",
    "        # The text at the bottom states \"An Eulerian path starting with Javier will end at what node?\""
   ]
  },
  {
   "cell_type": "code",
   "execution_count": null,
   "id": "d097bdf5-fb6d-4dda-bd06-3ae0f4c8d06c",
   "metadata": {},
   "outputs": [],
   "source": [
    "# 2.2 Counting Eulerian Paths\n",
    "\n",
    "# Go to Quiz ()\n",
    "    # 6 >>> J M T H J C S M"
   ]
  },
  {
   "cell_type": "code",
   "execution_count": 26,
   "id": "2f1e893b-d6ef-47f0-8706-36af6fd38044",
   "metadata": {},
   "outputs": [],
   "source": [
    "# 2.3 Create Graph With Eulerian Tour\n",
    "\n",
    "# Eulerian Tour Ver 1\n",
    "#\n",
    "# Write a function, `create_tour` that takes as\n",
    "# input a list of nodes\n",
    "# and outputs a list of tuples representing\n",
    "# edges between nodes that have an Eulerian tour.\n",
    "#\n",
    "\n",
    "import itertools \n",
    "def create_tour(nodes):\n",
    "    # your code here\n",
    "    #print  [j for j in itertools.product(nodes,2)]\n",
    "    lists=[]\n",
    "    length = len(nodes)\n",
    "    i=0\n",
    "    while i<(length-1):\n",
    "        lists.append( (nodes[i],nodes[(i+1)]) )\n",
    "        i=i+1\n",
    "    lists.append( (nodes[i],nodes[0]) )\n",
    "    return lists\n",
    "\n",
    "#########\n",
    "\n",
    "def get_degree(tour):\n",
    "    degree = {}\n",
    "    for x, y in tour:\n",
    "        degree[x] = degree.get(x, 0) + 1\n",
    "        degree[y] = degree.get(y, 0) + 1\n",
    "    return degree\n",
    "\n",
    "def check_edge(t, b, nodes):\n",
    "    \"\"\"\n",
    "    t: tuple representing an edge\n",
    "    b: origin node\n",
    "    nodes: set of nodes already visited\n",
    "\n",
    "    if we can get to a new node from `b` following `t`\n",
    "    then return that node, else return None\n",
    "    \"\"\"\n",
    "    if t[0] == b:\n",
    "        if t[1] not in nodes:\n",
    "            return t[1]\n",
    "    elif t[1] == b:\n",
    "        if t[0] not in nodes:\n",
    "            return t[0]\n",
    "    return None\n",
    "\n",
    "def connected_nodes(tour):\n",
    "    \"\"\"return the set of nodes reachable from\n",
    "    the first node in `tour`\"\"\"\n",
    "    a = tour[0][0]\n",
    "    nodes = set([a])\n",
    "    explore = set([a])\n",
    "    while len(explore) > 0:\n",
    "        # see what other nodes we can reach\n",
    "        b = explore.pop()\n",
    "        for t in tour:\n",
    "            node = check_edge(t, b, nodes)\n",
    "            if node is None:\n",
    "                continue\n",
    "            nodes.add(node)\n",
    "            explore.add(node)\n",
    "    return nodes\n",
    "\n",
    "def is_eulerian_tour(nodes, tour):\n",
    "    # all nodes must be even degree\n",
    "    # and every node must be in graph\n",
    "    degree = get_degree(tour)\n",
    "    for node in nodes:\n",
    "        try:\n",
    "            d = degree[node]\n",
    "            if d % 2 == 1:\n",
    "                print(\"Node %s has odd degree\") % node\n",
    "                return False\n",
    "        except KeyError:\n",
    "            print(\"Node %s was not in your tour\") % node\n",
    "            return False\n",
    "    connected = connected_nodes(tour)\n",
    "    if len(connected) == len(nodes):\n",
    "        return True\n",
    "    else:\n",
    "        print(\"Your graph wasn't connected\")\n",
    "        return False\n",
    "\n",
    "def test():\n",
    "    nodes = [20, 21, 22, 23, 24, 25]\n",
    "    tour = create_tour(nodes)\n",
    "    return is_eulerian_tour(nodes, tour)"
   ]
  },
  {
   "cell_type": "code",
   "execution_count": 8,
   "id": "7fa28247-1aa9-49d3-8f18-aa8e9b0d7e73",
   "metadata": {},
   "outputs": [
    {
     "name": "stdout",
     "output_type": "stream",
     "text": [
      "[1, 2, 3, 4, 3, 1]\n"
     ]
    }
   ],
   "source": [
    "# 2.4 Representing A Graph\n",
    "    \n",
    "    # Find Eulerian Tour\n",
    "    #\n",
    "    # Write a function that takes in a graph\n",
    "    # represented as a list of tuples\n",
    "    # and return a list of nodes that\n",
    "    # you would follow on an Eulerian Tour\n",
    "    #\n",
    "    # For example, if the input graph was\n",
    "    # [(1, 2), (2, 3), (3, 1)]\n",
    "    # A possible Eulerian tour would be [1, 2, 3, 1]\n",
    "\n",
    "def find_eulerian_tour(graph):\n",
    "    tour=[]\n",
    "    first_element = graph[0][0]    \n",
    "    find_tour(first_element,graph,tour)\n",
    "    return tour\n",
    "def find_tour(u,E,tour): \n",
    "    for (a,b) in E:\n",
    "        if a==u:\n",
    "            E.remove((a,b))\n",
    "            find_tour(b,E,tour)\n",
    "        elif b==u:\n",
    "            E.remove((a,b))\n",
    "            find_tour(a,E,tour)\n",
    "    tour.insert(0,u)\n",
    "    \n",
    "print(find_eulerian_tour([(1, 2), (2, 3), (3, 1), (3, 4), (4, 3)]))   \n",
    "\n",
    "# Go to Quiz ()\n",
    "    # [1, 2, 3, 4, 3, 1]"
   ]
  },
  {
   "cell_type": "code",
   "execution_count": 34,
   "id": "ad9cc0f7-4b8e-41a5-a4a6-4ada9f324c50",
   "metadata": {},
   "outputs": [
    {
     "name": "stdout",
     "output_type": "stream",
     "text": [
      "756\n",
      "\n"
     ]
    }
   ],
   "source": [
    "# 2.5 Naive Multiplication Algorithm خوارزمية الضرب الساذجة\n",
    "\n",
    "def naive(a,b):\n",
    "    x = a\n",
    "    y = b\n",
    "    z = 0\n",
    "    while x > 0:\n",
    "        z = z + y\n",
    "        x = x - 1\n",
    "    return z\n",
    "\n",
    "print(naive(63,12))\n",
    "\n",
    "# Go to Quiz ()\n",
    "    # print(naive(63,12)) = 756 = ab\n",
    "    # ab = xy + z >>> ab - xy = z\n",
    "    # 756 - (20*12) = z >>> 756 - (240) = z\n",
    "    # [516] = z"
   ]
  },
  {
   "cell_type": "code",
   "execution_count": 38,
   "id": "10a06409-1b10-4388-8b19-cd9a62fff7ea",
   "metadata": {},
   "outputs": [
    {
     "name": "stdout",
     "output_type": "stream",
     "text": [
      "102\n"
     ]
    }
   ],
   "source": [
    "# 2.6 Recursive Naive ساذج متكرر\n",
    "\n",
    "def rec_naive(a, b):\n",
    "    if a == 0:\n",
    "        return 0\n",
    "    return b + rec_naive(a-1, b)\n",
    "\n",
    "print(rec_naive(17,6))\n",
    "\n",
    "# Go to Quiz ()\n",
    "    # [17]"
   ]
  },
  {
   "cell_type": "code",
   "execution_count": 42,
   "id": "0bf4971e-6772-4094-bb50-b8bc7ec4740c",
   "metadata": {},
   "outputs": [
    {
     "name": "stdout",
     "output_type": "stream",
     "text": [
      "756\n"
     ]
    }
   ],
   "source": [
    "# 2.7 Russian Multiplication Algorithm\n",
    "\n",
    "def russian(a, b):\n",
    "    x = a; y = b\n",
    "    z= 0\n",
    "    while x > 0:\n",
    "        if x % 2 == 1:\n",
    "            z = z + y\n",
    "        y = y << 1\n",
    "        x = x >> 1\n",
    "    return z\n",
    "\n",
    "print(russian(63,12))\n",
    "\n",
    "# Go to Quiz ()\n",
    "    # print(russian(63,12)) = 756 = ab\n",
    "    # ab = xy + z >>> (ab - z)/x = y\n",
    "    # (756 - 84)/7 = y >>> (672)/7 = y\n",
    "    # [96] = y"
   ]
  },
  {
   "cell_type": "code",
   "execution_count": 58,
   "id": "5d210ad8-bd4a-4f78-b76a-04e94f8ec54b",
   "metadata": {},
   "outputs": [
    {
     "name": "stdout",
     "output_type": "stream",
     "text": [
      "in a clique ... \n",
      "0 is friends with 1\n",
      "0 is friends with 2\n",
      "1 is friends with 2\n",
      "0 is friends with 3\n",
      "1 is friends with 3\n",
      "2 is friends with 3\n",
      "None\n"
     ]
    }
   ],
   "source": [
    "# 2.8 Clique الزمرة/المجموعة\n",
    "\n",
    "def clique(n):\n",
    "    print(\"in a clique ... \")\n",
    "    for j in range(n):\n",
    "        for i in range(j):     \n",
    "            print(i, \"is friends with\", j)\n",
    "\n",
    "print(clique(4))\n",
    "\n",
    "# Go to Quiz ()\n",
    "    # [12]\n",
    "        # الطباعة الأولى = 1\n",
    "        # تقييم range(4) = 1\n",
    "        # تقييم range(j) (4 مرات) = 4\n",
    "        # عدد طباعات print: = 6\n",
    "        # الاجمالي 1+1+4+6 = 12"
   ]
  },
  {
   "cell_type": "code",
   "execution_count": 72,
   "id": "972975f0-9426-43aa-98af-4d88d565f548",
   "metadata": {},
   "outputs": [
    {
     "name": "stdout",
     "output_type": "stream",
     "text": [
      "in a clique...\n",
      "0 is friends with 1\n",
      "0 is friends with 2\n",
      "1 is friends with 2\n",
      "0 is friends with 3\n",
      "1 is friends with 3\n",
      "2 is friends with 3\n",
      "None\n"
     ]
    }
   ],
   "source": [
    "# 2.9 General Clique\n",
    "\n",
    "# Write a function, `count`\n",
    "# that returns the units of time\n",
    "# where each print statement is one unit of time\n",
    "# and each evaluation of range also takes one unit of time\n",
    "\n",
    "def count(n):\n",
    "    # Your code here to count the units of time\n",
    "    # it takes to execute clique\n",
    "    return (n * n + n + 4) // 2\n",
    "\n",
    "def clique(n):\n",
    "    print(\"in a clique...\")\n",
    "    for j in range(n):\n",
    "        for i in range(j):\n",
    "            print(i, \"is friends with\", j)\n",
    "\n",
    "print(clique(4))\n",
    "            \n",
    "# Go to Quiz ()\n",
    "    # "
   ]
  },
  {
   "cell_type": "code",
   "execution_count": null,
   "id": "4617e6af-5383-4314-a4bd-097de7f7004b",
   "metadata": {},
   "outputs": [],
   "source": [
    "# 2.10 Challenge Find Eulerian Tour\n",
    "\n",
    "# Find Eulerian Tour\n",
    "#\n",
    "# Write a function that takes in a graph\n",
    "# represented as a list of tuples\n",
    "# and return a list of nodes that\n",
    "# you would follow on an Eulerian Tour\n",
    "#\n",
    "# For example, if the input graph was\n",
    "# [(1, 2), (2, 3), (3, 1)]\n",
    "# A possible Eulerian tour would be [1, 2, 3, 1]\n",
    "\n",
    "def find_eulerian_tour(graph):\n",
    "    tour=[]\n",
    "    first_element = graph[0][0]    \n",
    "    find_tour(first_element,graph,tour)\n",
    "    return tour\n",
    "def find_tour(u,E,tour): \n",
    "    for (a,b) in E:\n",
    "        if a==u:\n",
    "            E.remove((a,b))\n",
    "            find_tour(b,E,tour)\n",
    "        elif b==u:\n",
    "            E.remove((a,b))\n",
    "            find_tour(a,E,tour)\n",
    "    tour.insert(0,u)\n",
    "    \n",
    "print(find_eulerian_tour([(1, 2), (2, 3), (3, 1), (3, 4), (4, 3)]))   "
   ]
  },
  {
   "cell_type": "code",
   "execution_count": null,
   "id": "cfe20174-4bc2-42bd-adae-3357d074b105",
   "metadata": {},
   "outputs": [],
   "source": [
    "# Done (2)\n",
    "# Lesson Rating\n",
    "# You just completed (2)\n",
    "# How was it? ()\n",
    "# Suggested Improvements: "
   ]
  }
 ],
 "metadata": {
  "kernelspec": {
   "display_name": "Python [conda env:base] *",
   "language": "python",
   "name": "conda-base-py"
  },
  "language_info": {
   "codemirror_mode": {
    "name": "ipython",
    "version": 3
   },
   "file_extension": ".py",
   "mimetype": "text/x-python",
   "name": "python",
   "nbconvert_exporter": "python",
   "pygments_lexer": "ipython3",
   "version": "3.12.7"
  }
 },
 "nbformat": 4,
 "nbformat_minor": 5
}
