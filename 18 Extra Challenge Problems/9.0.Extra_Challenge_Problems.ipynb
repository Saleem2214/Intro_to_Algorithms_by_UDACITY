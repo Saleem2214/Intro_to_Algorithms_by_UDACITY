{
 "cells": [
  {
   "cell_type": "markdown",
   "id": "81e84a8e-535f-4063-8a8d-0f76dbc33f8c",
   "metadata": {},
   "source": [
    "# Extra Challenge Problems"
   ]
  },
  {
   "cell_type": "code",
   "execution_count": 5,
   "id": "c7886431-f4cd-4163-945a-f469f358590a",
   "metadata": {},
   "outputs": [
    {
     "name": "stdout",
     "output_type": "stream",
     "text": [
      "Test passes\n"
     ]
    }
   ],
   "source": [
    "# 18.1 Top Two\n",
    "\n",
    "#\n",
    "# write a function, `top_two` that takes in a graph and a starting\n",
    "# node and returns two paths, the first and second shortest paths,\n",
    "# for all the other nodes in the graph.  You can assume that the\n",
    "# graph is connected.\n",
    "#\n",
    "\n",
    "import heapq\n",
    "from collections import defaultdict\n",
    "\n",
    "def top_two(graph, start, topX=2):\n",
    "\theap = [((0, [start]), start)]\n",
    "\tbest = defaultdict(list)\n",
    "\tbest[start] = [(0, [start])]\n",
    "\twhile heap:\n",
    "\t\t((cost, path), node) = heapq.heappop(heap)\n",
    "\t\tfor (other, weight) in graph[node].items():\n",
    "\t\t\tif other in path:\n",
    "\t\t\t\tcontinue\n",
    "\n",
    "\t\t\tnew = (cost + weight, path + [other])\n",
    "\t\t\tbest[other] = sorted(best[other] + [new])[:topX]\n",
    "\t\t\tif new in best[other]:\n",
    "\t\t\t\theapq.heappush(heap, (new, other))\n",
    "\n",
    "\treturn best\n",
    "\n",
    "def test():\n",
    "\tgraph = {'a':{'b':3, 'c':4, 'd':8},\n",
    "\t\t\t 'b':{'a':3, 'c':1, 'd':2},\n",
    "\t\t\t 'c':{'a':4, 'b':1, 'd':2},\n",
    "\t\t\t 'd':{'a':8, 'b':2, 'c':2}}\n",
    "\tresult = top_two(graph, 'a') # this is a dictionary\n",
    "\tb = result['b'] # this is a list\n",
    "\tb_first = b[0] # this is a list\n",
    "\tassert b_first[0] == 3 # the cost to get to 'b'\n",
    "\tassert b_first[1] == ['a', 'b'] # the path to 'b'\n",
    "\tb_second = b[1] # this is a list\n",
    "\tassert b_second[0] == 5 # the cost to get to 'b'\n",
    "\tassert b_second[1] == ['a', 'c', 'b']\n",
    "\n",
    "if __name__ == '__main__':\n",
    "\ttest()\n",
    "\tprint(\"Test passes\")"
   ]
  },
  {
   "cell_type": "code",
   "execution_count": null,
   "id": "05141f7c-51a6-4cb5-9fb8-a818cdb997b6",
   "metadata": {},
   "outputs": [],
   "source": [
    "# Done (18)\n",
    "# Lesson Rating\n",
    "# You just completed (18)\n",
    "# How was it? ()\n",
    "# Suggested Improvements: "
   ]
  }
 ],
 "metadata": {
  "kernelspec": {
   "display_name": "Python [conda env:base] *",
   "language": "python",
   "name": "conda-base-py"
  },
  "language_info": {
   "codemirror_mode": {
    "name": "ipython",
    "version": 3
   },
   "file_extension": ".py",
   "mimetype": "text/x-python",
   "name": "python",
   "nbconvert_exporter": "python",
   "pygments_lexer": "ipython3",
   "version": "3.12.7"
  }
 },
 "nbformat": 4,
 "nbformat_minor": 5
}
