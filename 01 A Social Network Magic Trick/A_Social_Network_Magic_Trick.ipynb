{
 "cells": [
  {
   "cell_type": "markdown",
   "id": "09cb6573-5b95-4d0a-8450-96f298de0ee4",
   "metadata": {},
   "source": [
    "# A Social Network Magic Trick"
   ]
  },
  {
   "cell_type": "code",
   "execution_count": 2,
   "id": "57f3f76e-b12f-4369-b18a-db1c0bbb73d8",
   "metadata": {},
   "outputs": [],
   "source": [
    "# 1.1 Introduction"
   ]
  },
  {
   "cell_type": "code",
   "execution_count": 3,
   "id": "06ed2914-9054-4f83-9f9b-167b5a39a9f7",
   "metadata": {},
   "outputs": [],
   "source": [
    "# 1.2 Magic Trick\n",
    "\n",
    "# Go to Quiz\n",
    "    # "
   ]
  },
  {
   "cell_type": "code",
   "execution_count": 4,
   "id": "b9fd7056-821b-46db-9293-fab12ca0d250",
   "metadata": {},
   "outputs": [],
   "source": [
    "# 1.3 Eulerian Path\n",
    "\n",
    "# Go to Quiz ()\n",
    "    # 3. Yes, all such graphics do."
   ]
  },
  {
   "cell_type": "code",
   "execution_count": 5,
   "id": "63ccc8e9-1391-4b3d-b2a5-49f083e0215c",
   "metadata": {},
   "outputs": [],
   "source": [
    "# 1.4 Algorithms Are Cool\n",
    "\n",
    "def algorithm_development(problem_spec):\n",
    "    correct = False\n",
    "    while not correct or not fast_enough(running_time):\n",
    "        algorithm = devise_algorithm(problem_spec)\n",
    "        correct = analyze_correctness(algorithm)\n",
    "        running_time = analyze_efficiency(algorithm)\n",
    "    return algorithm"
   ]
  },
  {
   "cell_type": "code",
   "execution_count": 6,
   "id": "fbc5fdc8-59cd-419f-8ad4-d48b4a06bc0b",
   "metadata": {},
   "outputs": [
    {
     "name": "stdout",
     "output_type": "stream",
     "text": [
      "10\n"
     ]
    }
   ],
   "source": [
    "# 1.5 Case Stady\n",
    "\n",
    "def naive(a,b):\n",
    "    x = a\n",
    "    y = b\n",
    "    z = 0\n",
    "    while x > 0:\n",
    "        z = z + y\n",
    "        x = x - 1\n",
    "    return z\n",
    "\n",
    "print(naive(2,5))\n",
    "\n",
    "# Go to Quiz ()\n",
    "    # 5. a*b >>> naive(a,b) = ab = xy+z > if x=0 >>> z=ab"
   ]
  },
  {
   "cell_type": "code",
   "execution_count": 7,
   "id": "8b54fe93-f60f-4a2d-8a10-322d95886b53",
   "metadata": {},
   "outputs": [],
   "source": [
    "# 1.6 Correctness: Naive\n",
    "\n",
    "# naive(a,b) = ab = xy+z >>> if x=0 > z=ab"
   ]
  },
  {
   "cell_type": "code",
   "execution_count": 8,
   "id": "7fc3c33b-9e4f-4a0a-b2d3-5f454fdbe5ca",
   "metadata": {},
   "outputs": [
    {
     "data": {
      "image/png": "[encoded data removed]",
      "text/plain": [
       "<Figure size 600x600 with 1 Axes>"
      ]
     },
     "metadata": {},
     "output_type": "display_data"
    },
    {
     "ename": "AttributeError",
     "evalue": "module 'base64' has no attribute 'encodestring'",
     "output_type": "error",
     "traceback": [
      "\u001b[1;31m---------------------------------------------------------------------------\u001b[0m",
      "\u001b[1;31mAttributeError\u001b[0m                            Traceback (most recent call last)",
      "Cell \u001b[1;32mIn[8], line 48\u001b[0m\n\u001b[0;32m     45\u001b[0m \u001b[38;5;66;03m# Import from main on online IDE but from ...\u001b[39;00m\n\u001b[0;32m     46\u001b[0m times1 \u001b[38;5;241m=\u001b[39m [timeit\u001b[38;5;241m.\u001b[39mTimer(\u001b[38;5;124mf\u001b[39m\u001b[38;5;124m'\u001b[39m\u001b[38;5;124mnaive(\u001b[39m\u001b[38;5;132;01m{\u001b[39;00mn\u001b[38;5;132;01m}\u001b[39;00m\u001b[38;5;124m, \u001b[39m\u001b[38;5;132;01m{\u001b[39;00mn\u001b[38;5;132;01m}\u001b[39;00m\u001b[38;5;124m)\u001b[39m\u001b[38;5;124m'\u001b[39m, \u001b[38;5;124m'\u001b[39m\u001b[38;5;124mfrom __main__ import naive\u001b[39m\u001b[38;5;124m'\u001b[39m)\u001b[38;5;241m.\u001b[39mtimeit(number\u001b[38;5;241m=\u001b[39m\u001b[38;5;241m1\u001b[39m) \u001b[38;5;28;01mfor\u001b[39;00m n \u001b[38;5;129;01min\u001b[39;00m ns]\n\u001b[1;32m---> 48\u001b[0m plot(ns, times1)\n",
      "Cell \u001b[1;32mIn[8], line 30\u001b[0m, in \u001b[0;36mplot\u001b[1;34m(*a, **k)\u001b[0m\n\u001b[0;32m     28\u001b[0m pyplot\u001b[38;5;241m.\u001b[39mshow()\n\u001b[0;32m     29\u001b[0m fig\u001b[38;5;241m.\u001b[39msavefig(o, \u001b[38;5;28mformat\u001b[39m\u001b[38;5;241m=\u001b[39m\u001b[38;5;124m'\u001b[39m\u001b[38;5;124mpng\u001b[39m\u001b[38;5;124m'\u001b[39m)\n\u001b[1;32m---> 30\u001b[0m output_image(\u001b[38;5;124m'\u001b[39m\u001b[38;5;124mGraph\u001b[39m\u001b[38;5;124m'\u001b[39m,\u001b[38;5;124m'\u001b[39m\u001b[38;5;124mpng\u001b[39m\u001b[38;5;124m'\u001b[39m,o\u001b[38;5;241m.\u001b[39mgetvalue())\n",
      "Cell \u001b[1;32mIn[8], line 16\u001b[0m, in \u001b[0;36moutput_image\u001b[1;34m(title, fmt, data)\u001b[0m\n\u001b[0;32m     11\u001b[0m image_start \u001b[38;5;241m=\u001b[39m \u001b[38;5;124m\"\u001b[39m\u001b[38;5;124mIMAGE_START:\u001b[39m\u001b[38;5;124m\"\u001b[39m\n\u001b[0;32m     12\u001b[0m image_end \u001b[38;5;241m=\u001b[39m \u001b[38;5;124m\"\u001b[39m\u001b[38;5;124mIMAGE_END\u001b[39m\u001b[38;5;124m\"\u001b[39m\n\u001b[0;32m     14\u001b[0m data \u001b[38;5;241m=\u001b[39m {\n\u001b[0;32m     15\u001b[0m     \u001b[38;5;124m'\u001b[39m\u001b[38;5;124mformat\u001b[39m\u001b[38;5;124m'\u001b[39m: fmt,\n\u001b[1;32m---> 16\u001b[0m     \u001b[38;5;124m'\u001b[39m\u001b[38;5;124mbytes\u001b[39m\u001b[38;5;124m'\u001b[39m: base64\u001b[38;5;241m.\u001b[39mencodestring(data)\u001b[38;5;241m.\u001b[39mdecode(\u001b[38;5;124m'\u001b[39m\u001b[38;5;124mutf-8\u001b[39m\u001b[38;5;124m'\u001b[39m)\n\u001b[0;32m     17\u001b[0m }\n\u001b[0;32m     19\u001b[0m sys\u001b[38;5;241m.\u001b[39mstdout\u001b[38;5;241m.\u001b[39mwrite(image_start)\n\u001b[0;32m     20\u001b[0m sys\u001b[38;5;241m.\u001b[39mstdout\u001b[38;5;241m.\u001b[39mwrite(json\u001b[38;5;241m.\u001b[39mdumps(data))\n",
      "\u001b[1;31mAttributeError\u001b[0m: module 'base64' has no attribute 'encodestring'"
     ]
    }
   ],
   "source": [
    "# 1.7 Running Time\n",
    "\n",
    "import timeit\n",
    "import sys\n",
    "import base64\n",
    "import json\n",
    "from io import BytesIO\n",
    "from matplotlib import pyplot\n",
    "\n",
    "def output_image(title, fmt, data):\n",
    "    image_start = \"IMAGE_START:\"\n",
    "    image_end = \"IMAGE_END\"\n",
    "    \n",
    "    data = {\n",
    "        'format': fmt,\n",
    "        'bytes': base64.encodestring(data).decode('utf-8')\n",
    "    }\n",
    "    \n",
    "    sys.stdout.write(image_start)\n",
    "    sys.stdout.write(json.dumps(data))\n",
    "    sys.stdout.write(image_end)\n",
    "\n",
    "# Wrapper around pyplot.plot\n",
    "def plot(*a, **k):\n",
    "    o = BytesIO()\n",
    "    fig = pyplot.figure(figsize=(6,6))\n",
    "    pyplot.plot(*a, **k)\n",
    "    pyplot.show()\n",
    "    fig.savefig(o, format='png')\n",
    "    output_image('Graph','png',o.getvalue())\n",
    "\n",
    "def naive(a, b):\n",
    "    x = a\n",
    "    y = b\n",
    "    z = 0\n",
    "    while x > 0:\n",
    "        z = z + y\n",
    "        x = x - 1\n",
    "    return z\n",
    "\n",
    "maxsize = 24\n",
    "\n",
    "ns = [1<<i for i in range(maxsize)]\n",
    "\n",
    "# Import from main on online IDE but from ...\n",
    "times1 = [timeit.Timer(f'naive({n}, {n})', 'from __main__ import naive').timeit(number=1) for n in ns]\n",
    "\n",
    "plot(ns, times1)\n",
    "\n",
    "# Go to Quiz (How does runnuing time + relate to input n?)\n",
    "    # 3. Roughly Linear (t=Cn)"
   ]
  },
  {
   "cell_type": "code",
   "execution_count": 49,
   "id": "3889b665-2a52-4d83-abe6-bd46a178001d",
   "metadata": {},
   "outputs": [
    {
     "name": "stdout",
     "output_type": "stream",
     "text": [
      "85\n"
     ]
    }
   ],
   "source": [
    "# 1.8 Russian Peasants Algorithm\n",
    "\n",
    "def russian(a,b):\n",
    "    x = a; y = b\n",
    "    z= 0\n",
    "    while x > 0:\n",
    "        if x % 2 == 1: z = z + y # يبدا حساب زد عندما يكون اكس فردي\n",
    "        y = y << 1\n",
    "        x = x >> 1\n",
    "    return z\n",
    "    \n",
    "print(russian(5,17))\n",
    "\n",
    "# Go to Quiz (What is 17 >> 1 ? Bit Shifts)\n",
    "    # 3. 8"
   ]
  },
  {
   "cell_type": "code",
   "execution_count": 29,
   "id": "6a01a8e0-79b7-4691-97df-4de0a0311c67",
   "metadata": {},
   "outputs": [
    {
     "name": "stdout",
     "output_type": "stream",
     "text": [
      "154\n"
     ]
    }
   ],
   "source": [
    "# 1.9 Example\n",
    "\n",
    "def russian(a,b):\n",
    "    x = a; y = b\n",
    "    z = 0\n",
    "    while x > 0:\n",
    "        if x % 2 == 1: z = z + y # يبدا حساب زد عندما يكون اكس فردي\n",
    "        y = y << 1\n",
    "        x = x >> 1\n",
    "    return z\n",
    "    \n",
    "print(russian(14,11))\n",
    "\n",
    "\n",
    "    # Example russian(14,11)\n",
    "    # --   (X)   (Y)   (Z)\n",
    "    # 1    14    11    0\n",
    "    # 2    (7)   [22]  0  يبدا زد عندما اكس فردي\n",
    "    # 3    (3)   [44]  22\n",
    "    # 4    (1)   [88]  66\n",
    "    # 5    0     176   *154*\n",
    "    # يتم اخذ الارقام افردية من اكس ويتم احتساب وجمع القيم المقابله له للحصول على الناتج\n"
   ]
  },
  {
   "cell_type": "code",
   "execution_count": null,
   "id": "c2d24486-4374-4a62-8c55-f36cc6fee2e9",
   "metadata": {},
   "outputs": [],
   "source": [
    "# 1.10 Correctness: Russian\n",
    "\n",
    "\n"
   ]
  },
  {
   "cell_type": "code",
   "execution_count": 70,
   "id": "febb5086-2a8a-4fba-a1b7-483c20e99252",
   "metadata": {},
   "outputs": [
    {
     "name": "stdout",
     "output_type": "stream",
     "text": [
      "140\n"
     ]
    }
   ],
   "source": [
    "# 1.11 How Many Additions\n",
    "\n",
    "def russian(a,b):\n",
    "    x = a; y = b\n",
    "    z = 0\n",
    "    while x > 0:\n",
    "        if x % 2 == 1: z = z + y # يبدا حساب زد عندما يكون اكس فردي\n",
    "        y = y << 1\n",
    "        x = x >> 1\n",
    "    return z\n",
    "    \n",
    "print(russian(20,7))\n",
    "\n",
    "    # --   (X)   (Y)   (Z)\n",
    "    # 1    20    7     0\n",
    "    # 2    10    14    0\n",
    "    # 3    (5)   [28]  0 يبدا زد عندما اكس فردي\n",
    "    # 4    2     56    28\n",
    "    # 5    (1)   [112] 84\n",
    "    # 6    0     224   *140*\n",
    "    # يتم اخذ الارقام افردية من اكس ويتم احتساب وجمع القيم المقابله له للحصول على الناتج\n",
    "\n",
    "# Go to Quiz (How many additions for russian(20,7)?)\n",
    "    # [2] (5) and (1) = 28+112 = 140"
   ]
  },
  {
   "cell_type": "code",
   "execution_count": 74,
   "id": "73dca7f4-4ea9-41a2-8212-ada6c719d462",
   "metadata": {},
   "outputs": [
    {
     "name": "stdout",
     "output_type": "stream",
     "text": [
      "441\n",
      "441\n"
     ]
    }
   ],
   "source": [
    "# 1.12 Which Is Faster\n",
    "\n",
    "def naive(a, b):\n",
    "    x = a\n",
    "    y = b\n",
    "    z = 0\n",
    "    while x > 0:\n",
    "        z = z + y\n",
    "        x = x - 1\n",
    "    return z\n",
    "\n",
    "def russian(a,b):\n",
    "    x = a; y = b\n",
    "    z = 0\n",
    "    while x > 0:\n",
    "        if x % 2 == 1: z = z + y\n",
    "        y = y << 1\n",
    "        x = x >> 1\n",
    "    return z\n",
    "    \n",
    "print(russian(2^23,2^23)) # < 3 msec\n",
    "print(naive(2^23,2^23))  # 3 sec"
   ]
  },
  {
   "cell_type": "code",
   "execution_count": 43,
   "id": "3ee40289-f2d3-4d1e-af2d-29e7dd7635e5",
   "metadata": {},
   "outputs": [
    {
     "name": "stdout",
     "output_type": "stream",
     "text": [
      "45\n"
     ]
    }
   ],
   "source": [
    "# 1.13 Measuring Time\n",
    "\n",
    "# How many units of time will this python code take to run?\n",
    "\n",
    "s = 0\n",
    "for i in range(10):\n",
    "    s = s + i\n",
    "    \n",
    "print(s)\n",
    "\n",
    "# Go to Quiz (How many units of time will this python code take to run?)\n",
    "    # [12]"
   ]
  },
  {
   "cell_type": "code",
   "execution_count": 60,
   "id": "622bf552-2665-41db-90ce-d68037b580e3",
   "metadata": {},
   "outputs": [
    {
     "name": "stdout",
     "output_type": "stream",
     "text": [
      "10\n",
      "None\n",
      "23\n"
     ]
    }
   ],
   "source": [
    "# 1.14 Counting Steps\n",
    "\n",
    "import math\n",
    "def countdown(x):\n",
    "    y = 0\n",
    "    while x > 0:\n",
    "        x = x - 5\n",
    "        y = y + 1\n",
    "    print(y)\n",
    "    \n",
    "def time(n):\n",
    "    \"\"\" Return the number of steps \n",
    "    necessary to calculate\"\"\"\n",
    "    print(countdown(n))\n",
    "    return 3 + 2 * math.ceil(n/5.0)\n",
    "    \n",
    "print(time(50))\n"
   ]
  },
  {
   "cell_type": "code",
   "execution_count": 68,
   "id": "45421404-4171-4f72-92e0-0e9510960d1d",
   "metadata": {},
   "outputs": [
    {
     "name": "stdout",
     "output_type": "stream",
     "text": [
      "103\n"
     ]
    }
   ],
   "source": [
    "# 1.15 Steps For Naive\n",
    "\n",
    "# counting steps in naive as a function of a\n",
    "\n",
    "def naive(a,b):\n",
    "    x = a\n",
    "    y = b\n",
    "    z = 0\n",
    "    while x > 0:\n",
    "        z = z + y\n",
    "        x = x - 1\n",
    "    return z\n",
    "\n",
    "def time(a):\n",
    "    # The number of steps it takes to execute naive(a,b)\n",
    "    # as a function of a\n",
    "    steps = 0\n",
    "    steps = 3 + 2 * a\n",
    "    return steps\n",
    "    \n",
    "print(time(50))\n"
   ]
  },
  {
   "cell_type": "code",
   "execution_count": null,
   "id": "5ca4c65c-b327-4113-9455-85780862fddb",
   "metadata": {},
   "outputs": [],
   "source": [
    "# 1.16 Halving\n",
    "\n",
    "\n",
    "# Go to Quiz ()\n",
    "    # [log_2 X]+1"
   ]
  },
  {
   "cell_type": "code",
   "execution_count": null,
   "id": "68375b55-60b9-4c60-938c-cd51e4314b47",
   "metadata": {},
   "outputs": [],
   "source": [
    "# 1.17 Steps For Russian خطوات \n",
    "\n",
    "# Naive -- very, very bad. \n",
    "# Russian-actually quite good and happy."
   ]
  },
  {
   "cell_type": "code",
   "execution_count": 82,
   "id": "c51b1234-5392-4bcd-a70f-82128356b9eb",
   "metadata": {},
   "outputs": [],
   "source": [
    "# 1.18 Divide And Conquer فرق تسد\n",
    "\n",
    "# Russian, expressed recursively\n",
    "def rec_russian(a,b):\n",
    "    if a == 0: \n",
    "        return 0\n",
    "    if a % 2 == 0: \n",
    "        return 2*rec_russian(a/2,b)\n",
    "    return b + 2*rec_russian((a-1)/2,b)\n"
   ]
  },
  {
   "cell_type": "code",
   "execution_count": null,
   "id": "36c75f61-8441-4eef-add4-10c8787339fe",
   "metadata": {},
   "outputs": [],
   "source": [
    "# 1.19 Recurrence Relation العلاقة التكرارية\n",
    "\n",
    "\n",
    "\n",
    "# Go to Quiz ()\n",
    "    # 4. T(a)=3[log_2 a]+4\n",
    "        # Thanks to Peter for pointing out that we should assume that "
   ]
  },
  {
   "cell_type": "code",
   "execution_count": null,
   "id": "ff91fbe8-5332-4dee-8653-4265b35d3049",
   "metadata": {},
   "outputs": [],
   "source": [
    "# Done "
   ]
  }
 ],
 "metadata": {
  "kernelspec": {
   "display_name": "Python [conda env:base] *",
   "language": "python",
   "name": "conda-base-py"
  },
  "language_info": {
   "codemirror_mode": {
    "name": "ipython",
    "version": 3
   },
   "file_extension": ".py",
   "mimetype": "text/x-python",
   "name": "python",
   "nbconvert_exporter": "python",
   "pygments_lexer": "ipython3",
   "version": "3.12.7"
  }
 },
 "nbformat": 4,
 "nbformat_minor": 5
}
